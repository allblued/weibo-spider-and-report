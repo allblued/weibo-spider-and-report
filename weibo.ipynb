{
 "cells": [
  {
   "cell_type": "code",
   "execution_count": 1,
   "metadata": {
    "collapsed": false
   },
   "outputs": [],
   "source": [
    "from bs4 import BeautifulSoup\n",
    "import requests\n",
    "import re\n",
    "import json\n",
    "import time\n",
    "import random\n",
    "from multiprocessing.dummy import Pool\n",
    "import pandas as pd"
   ]
  },
  {
   "cell_type": "code",
   "execution_count": 136,
   "metadata": {
    "collapsed": false
   },
   "outputs": [],
   "source": [
    "headers1 = {#sunyangmobile\n",
    "    'Accept':'application/json, text/javascript, */*; q=0.01',\n",
    "    'Accept-Encoding':'gzip, deflate, sdch',\n",
    "    'Accept-Language':'zh-CN,zh;q=0.8',\n",
    "    'Connection':'keep-alive',\n",
    "    'Cookie':'_T_WM=ef8899aabdd0b5166e2c54ad1adcf967; H5_INDEX=0_all; H5_INDEX_TITLE=_sjeihdhbs; ALF=1472936972; SCF=AjpnhMi2EBVNYSypWIHsrXcxnrltRGFyym3mtYSXB8Gi-cBoGHX4-kynrsRNwzHEONQEmkfGyITF83oBjiEPpwg.; SUB=_2A256p780DeTxGedJ7FMV8i7OwjiIHXVWa8F8rDV6PUJbktBeLUrhkW0VcaNzAYGC4W29ca0mo7ZwNaP54g..; SUBP=0033WrSXqPxfM725Ws9jqgMF55529P9D9WFC15H396RMDP53_qgpvSXb5JpX5o2p5NHD95QpS0MpShz7eo.XWs4DqcjZPNS39gLQ9sybM7tt; SUHB=0rr6bbbxxUcBAm; SSOLoginState=1470353253; M_WEIBOCN_PARAMS=featurecode%3D20000180%26oid%3D4005232654273360%26luicode%3D20000061%26lfid%3D4005232654273360',\n",
    "    'Host':'m.weibo.cn',\n",
    "    'Referer':'http://m.weibo.cn/single/rcList?id=4005232654273360&type=comment&hot=1&tab=1',\n",
    "    'User-Agent':'Mozilla/5.0 (Macintosh; Intel Mac OS X 10_10_5) AppleWebKit/537.36 (KHTML, like Gecko) Chrome/51.0.2704.103 Safari/537.36',\n",
    "    'X-Requested-With':'XMLHttpRequest'\n",
    "}\n",
    "headers2 = {#ningzetaomobile\n",
    "    'Accept':'application/json, text/javascript, */*; q=0.01',\n",
    "    'Accept-Encoding':'gzip, deflate, sdch',\n",
    "    'Accept-Language':'zh-CN,zh;q=0.8',\n",
    "    'Connection':'keep-alive',\n",
    "    'Cookie':'_T_WM=ef8899aabdd0b5166e2c54ad1adcf967; H5_INDEX=0_all; H5_INDEX_TITLE=_sjeihdhbs; ALF=1472936972; SCF=AjpnhMi2EBVNYSypWIHsrXcxnrltRGFyym3mtYSXB8Gi-cBoGHX4-kynrsRNwzHEONQEmkfGyITF83oBjiEPpwg.; SUBP=0033WrSXqPxfM725Ws9jqgMF55529P9D9WFC15H396RMDP53_qgpvSXb5JpX5o2p5NHD95QpS0MpShz7eo.XWs4DqcjZPNS39gLQ9sybM7tt; SUHB=0rr6bbbxxUcBAm; SSOLoginState=1470353253; SUB=_2A256oVC7DeTxGedJ7FMV8i7OwjiIHXVWanDzrDV6PUJbktBeLUb7kW1EEtn5DrzvAWXg4XBUeZvhZWdehQ..; M_WEIBOCN_PARAMS=featurecode%3D20000180%26oid%3D4003600885633172%26luicode%3D20000061%26lfid%3D4003600885633172',\n",
    "    'Host':'m.weibo.cn',\n",
    "    'Referer':'http://m.weibo.cn/single/rcList?id=4003600885633172&type=comment&hot=1&tab=1',\n",
    "    'User-Agent':'Mozilla/5.0 (Macintosh; Intel Mac OS X 10_10_5) AppleWebKit/537.36 (KHTML, like Gecko) Chrome/51.0.2704.103 Safari/537.36',\n",
    "    'X-Requested-With':'XMLHttpRequest'\n",
    "    }\n",
    "headers3 = {#zhangjike3W\n",
    "    'Accept':'application/json, text/javascript, */*; q=0.01',\n",
    "    'Accept-Encoding':'gzip, deflate, sdch',\n",
    "    'Accept-Language':'zh-CN,zh;q=0.8',\n",
    "    'Connection':'keep-alive',\n",
    "    'Cookie':'_T_WM=ef8899aabdd0b5166e2c54ad1adcf967; H5_INDEX=0_all; H5_INDEX_TITLE=_sjeihdhbs; ALF=1472936972; SCF=AjpnhMi2EBVNYSypWIHsrXcxnrltRGFyym3mtYSXB8Gi-cBoGHX4-kynrsRNwzHEONQEmkfGyITF83oBjiEPpwg.; SUBP=0033WrSXqPxfM725Ws9jqgMF55529P9D9WFC15H396RMDP53_qgpvSXb5JpX5o2p5NHD95QpS0MpShz7eo.XWs4DqcjZPNS39gLQ9sybM7tt; SUHB=0rr6bbbxxUcBAm; SSOLoginState=1470353253; SUB=_2A256oVC7DeTxGedJ7FMV8i7OwjiIHXVWanDzrDV6PUJbktBeLUb7kW1EEtn5DrzvAWXg4XBUeZvhZWdehQ..; M_WEIBOCN_PARAMS=featurecode%3D20000180%26oid%3D4003232056071190%26luicode%3D20000061%26lfid%3D4003232056071190',\n",
    "    'Host':'m.weibo.cn',\n",
    "    'Referer':'http://m.weibo.cn/single/rcList?id=4003232056071190&type=comment&hot=1&tab=1',\n",
    "    'User-Agent':'Mozilla/5.0 (Macintosh; Intel Mac OS X 10_10_5) AppleWebKit/537.36 (KHTML, like Gecko) Chrome/51.0.2704.103 Safari/537.36',\n",
    "    'X-Requested-With':'XMLHttpRequest'\n",
    "}\n",
    "headers4 = {#zhangjike6000\n",
    "    'Accept':'application/json, text/javascript, */*; q=0.01',\n",
    "    'Accept-Encoding':'gzip, deflate, sdch',\n",
    "    'Accept-Language':'zh-CN,zh;q=0.8',\n",
    "    'Connection':'keep-alive',\n",
    "    'Cookie':'_T_WM=ef8899aabdd0b5166e2c54ad1adcf967; H5_INDEX=0_all; H5_INDEX_TITLE=_sjeihdhbs; ALF=1472936972; SCF=AjpnhMi2EBVNYSypWIHsrXcxnrltRGFyym3mtYSXB8Gi-cBoGHX4-kynrsRNwzHEONQEmkfGyITF83oBjiEPpwg.; SUBP=0033WrSXqPxfM725Ws9jqgMF55529P9D9WFC15H396RMDP53_qgpvSXb5JpX5o2p5NHD95QpS0MpShz7eo.XWs4DqcjZPNS39gLQ9sybM7tt; SUHB=0rr6bbbxxUcBAm; SSOLoginState=1470353253; SUB=_2A256oVC7DeTxGedJ7FMV8i7OwjiIHXVWanDzrDV6PUJbktBeLUb7kW1EEtn5DrzvAWXg4XBUeZvhZWdehQ..',\n",
    "    'Host':'m.weibo.cn',\n",
    "    'Referer':'http://m.weibo.cn/single/rcList?id=4005425748280466&type=comment&hot=1&tab=1',\n",
    "    'User-Agent':'Mozilla/5.0 (Macintosh; Intel Mac OS X 10_10_5) AppleWebKit/537.36 (KHTML, like Gecko) Chrome/51.0.2704.103 Safari/537.36',\n",
    "    'X-Requested-With':'XMLHttpRequest'\n",
    "}\n",
    "headers5 = {#央视新闻代表队入场\n",
    "    'Accept':'application/json, text/javascript, */*; q=0.01',\n",
    "    'Accept-Encoding':'gzip, deflate, sdch',\n",
    "    'Accept-Language':'zh-CN,zh;q=0.8',\n",
    "    'Connection':'keep-alive',\n",
    "    'Cookie':'_T_WM=ef8899aabdd0b5166e2c54ad1adcf967; ALF=1473080250; SCF=AjpnhMi2EBVNYSypWIHsrXcxnrltRGFyym3mtYSXB8GiqTIRabOKi8k-9mcgjgdRw5ZU1v6--XoC0LEu4boPp5s.; SUB=_2A256oa_bDeTxGedJ7FMV8i7OwjiIHXVWbTGTrDV6PUJbktBeLVHukW1NkqpCV5P69zPX-N2koYWp1OpO0w..; SUBP=0033WrSXqPxfM725Ws9jqgMF55529P9D9WFC15H396RMDP53_qgpvSXb5JpX5o2p5NHD95QpS0MpShz7eo.XWs4DqcjZPNS39gLQ9sybM7tt; SUHB=0h1IlbmWq_phIk; SSOLoginState=1470488459; H5_INDEX=2; H5_INDEX_TITLE=_sjeihdhbs; M_WEIBOCN_PARAMS=featurecode%3D20000180%26oid%3D4005394201781631%26luicode%3D20000061%26lfid%3D4005394201781631',\n",
    "    'Host':'m.weibo.cn',\n",
    "    'Referer':'http://m.weibo.cn/single/rcList?id=4005394201781631&type=comment&hot=1&tab=1',\n",
    "    'User-Agent':'Mozilla/5.0 (Macintosh; Intel Mac OS X 10_10_5) AppleWebKit/537.36 (KHTML, like Gecko) Chrome/51.0.2704.103 Safari/537.36',\n",
    "    'X-Requested-With':'XMLHttpRequest'\n",
    "}\n",
    "headers6 ={#opening ceremony开幕式演出正在进行，你被惊艳到了吗？\n",
    "    'Accept':'application/json, text/javascript, */*; q=0.01',\n",
    "    'Accept-Encoding':'gzip, deflate, sdch',\n",
    "    'Accept-Language':'zh-CN,zh;q=0.8',\n",
    "    'Connection':'keep-alive',\n",
    "    'Cookie':'_T_WM=ef8899aabdd0b5166e2c54ad1adcf967; ALF=1473080250; SCF=AjpnhMi2EBVNYSypWIHsrXcxnrltRGFyym3mtYSXB8GiqTIRabOKi8k-9mcgjgdRw5ZU1v6--XoC0LEu4boPp5s.; SUB=_2A256oa_bDeTxGedJ7FMV8i7OwjiIHXVWbTGTrDV6PUJbktBeLVHukW1NkqpCV5P69zPX-N2koYWp1OpO0w..; SUBP=0033WrSXqPxfM725Ws9jqgMF55529P9D9WFC15H396RMDP53_qgpvSXb5JpX5o2p5NHD95QpS0MpShz7eo.XWs4DqcjZPNS39gLQ9sybM7tt; SUHB=0h1IlbmWq_phIk; SSOLoginState=1470488459; H5_INDEX=2; H5_INDEX_TITLE=_sjeihdhbs; M_WEIBOCN_PARAMS=featurecode%3D20000180%26oid%3D4005375332165659%26luicode%3D20000061%26lfid%3D4005375332165659',\n",
    "    'Host':'m.weibo.cn',\n",
    "    'Referer':'http://m.weibo.cn/single/rcList?id=4005375332165659&type=comment&hot=1&tab=1',\n",
    "    'User-Agent':'Mozilla/5.0 (Macintosh; Intel Mac OS X 10_10_5) AppleWebKit/537.36 (KHTML, like Gecko) Chrome/51.0.2704.103 Safari/537.36',\n",
    "    'X-Requested-With':'XMLHttpRequest'\n",
    "}\n",
    "headers7 = {#opening ceremony此刻，里约奥运，开幕！\n",
    "    'Accept':'application/json, text/javascript, */*; q=0.01',\n",
    "    'Accept-Encoding':'gzip, deflate, sdch',\n",
    "    'Accept-Language':'zh-CN,zh;q=0.8',\n",
    "    'Connection':'keep-alive',\n",
    "    'Cookie':'_T_WM=ef8899aabdd0b5166e2c54ad1adcf967; ALF=1473080250; SCF=AjpnhMi2EBVNYSypWIHsrXcxnrltRGFyym3mtYSXB8GiqTIRabOKi8k-9mcgjgdRw5ZU1v6--XoC0LEu4boPp5s.; SUB=_2A256oa_bDeTxGedJ7FMV8i7OwjiIHXVWbTGTrDV6PUJbktBeLVHukW1NkqpCV5P69zPX-N2koYWp1OpO0w..; SUBP=0033WrSXqPxfM725Ws9jqgMF55529P9D9WFC15H396RMDP53_qgpvSXb5JpX5o2p5NHD95QpS0MpShz7eo.XWs4DqcjZPNS39gLQ9sybM7tt; SUHB=0h1IlbmWq_phIk; SSOLoginState=1470488459; H5_INDEX=2; H5_INDEX_TITLE=_sjeihdhbs; M_WEIBOCN_PARAMS=uicode%3D20000061%26featurecode%3D20000180%26fid%3D4005370215389688%26oid%3D4005370215389688',\n",
    "    'Host':'m.weibo.cn',\n",
    "    'Referer':'http://m.weibo.cn/2803301701/4005370215389688',\n",
    "    'User-Agent':'Mozilla/5.0 (Macintosh; Intel Mac OS X 10_10_5) AppleWebKit/537.36 (KHTML, like Gecko) Chrome/51.0.2704.103 Safari/537.36',\n",
    "    'X-Requested-With':'XMLHttpRequest'\n",
    "}"
   ]
  },
  {
   "cell_type": "code",
   "execution_count": 70,
   "metadata": {
    "collapsed": false
   },
   "outputs": [],
   "source": [
    "def mobilehot(page,hot,i,url,headers):\n",
    "    if hot == 1:\n",
    "        if page%25 == 0:\n",
    "            time.sleep(60)\n",
    "            print 'take a break for 60 seconds........................................'\n",
    "    elif hot == 0:\n",
    "        if i%25 == 0:\n",
    "            print 'take a break for 60 seconds........................................'\n",
    "            time.sleep(60)\n",
    "    time.sleep(5)\n",
    "    url = url.format(str(hot),str(page))\n",
    "    try:\n",
    "        content = requests.get(url,headers=headers).content\n",
    "        information[page] = {}\n",
    "        try:\n",
    "            content = json.loads(content)[0]['card_group']\n",
    "        except:\n",
    "            content = json.loads(content)[1]['card_group']\n",
    "        try:\n",
    "            for i in range(len(content)):\n",
    "                if hot == 1:\n",
    "                    comment = (''.join(re.findall(u\"[\\u4e00-\\u9fa5]+\",content[i]['text'])))*3\n",
    "                else:\n",
    "                    comment = ''.join(re.findall(u\"[\\u4e00-\\u9fa5]+\",content[i]['text']))\n",
    "                information[page][content[i]['user']['id']] = comment \n",
    "            print comment\n",
    "            print 'page {} success'.format(page)\n",
    "            success.append(page)\n",
    "            return 'ok'\n",
    "        except:\n",
    "            for i in range(len(content)):\n",
    "                if hot == 1:\n",
    "                    comment = (''.join(re.findall(u\"[\\u4e00-\\u9fa5]+\",content[i]['text'])))*3\n",
    "                else:\n",
    "                    comment = ''.join(re.findall(u\"[\\u4e00-\\u9fa5]+\",content[i]['text']))\n",
    "                information[page][content[i]['user']['id']] = comment \n",
    "            print comment\n",
    "            print 'page {} success'.format(page)\n",
    "            success.append(page)\n",
    "            return 'ok'\n",
    "        \n",
    "    except Exception as e:\n",
    "        print 'Error page{}'.format(page), e\n",
    "        error.append(page)\n",
    "        time.sleep(180)"
   ]
  },
  {
   "cell_type": "code",
   "execution_count": 96,
   "metadata": {
    "collapsed": false
   },
   "outputs": [],
   "source": [
    "pages = []\n",
    "while(len(set(pages))) < 150:\n",
    "    pages.append(random.randint(100,1000))\n",
    "pages = list(set(pages))"
   ]
  },
  {
   "cell_type": "code",
   "execution_count": 97,
   "metadata": {
    "collapsed": false
   },
   "outputs": [
    {
     "data": {
      "text/plain": [
       "150"
      ]
     },
     "execution_count": 97,
     "metadata": {},
     "output_type": "execute_result"
    }
   ],
   "source": [
    "len(pages)"
   ]
  },
  {
   "cell_type": "code",
   "execution_count": 142,
   "metadata": {
    "collapsed": false
   },
   "outputs": [],
   "source": [
    "def get0(i):\n",
    "    mobilehot(pages[i],0,i,url,headers)\n",
    "def get1(i):\n",
    "    mobilehot(error[i],1,i,url,headers)"
   ]
  },
  {
   "cell_type": "code",
   "execution_count": 143,
   "metadata": {
    "collapsed": false
   },
   "outputs": [
    {
     "name": "stdout",
     "output_type": "stream",
     "text": [
      "讲实话真用心讲实话真用心讲实话真用心\n",
      "page 23 success\n",
      "恐怖分子在开幕式放假了么恐怖分子在开幕式放假了么恐怖分子在开幕式放假了么\n",
      "page 42 success\n",
      "中国代表团入场中国代表团入场中国代表团入场\n",
      "page 31 success\n",
      "刚看的啊睡过头了泪泪泪现场没发生暴乱吧眼泪眼泪眼泪刚看的啊睡过头了泪泪泪现场没发生暴乱吧眼泪眼泪眼泪刚看的啊睡过头了泪泪泪现场没发生暴乱吧眼泪眼泪眼泪\n",
      "page 19 success\n",
      "大伙儿还在睡觉我已经在看开幕式啦不好意思大伙儿还在睡觉我已经在看开幕式啦不好意思大伙儿还在睡觉我已经在看开幕式啦不好意思\n",
      "page 48 success\n"
     ]
    }
   ],
   "source": [
    "hot = True\n",
    "url = 'http://m.weibo.cn/single/rcList?format=cards&id=4005370215389688&type=comment&hot={}&page={}'\n",
    "headers=headers7\n",
    "if hot:\n",
    "    #information = {}\n",
    "    success = []\n",
    "    #error = []\n",
    "    totalpage = 51\n",
    "    pool = Pool(4)\n",
    "    pool.map(get1,range(5))\n",
    "else:\n",
    "    information = {}\n",
    "    error = []\n",
    "    success = []\n",
    "    #pages = error\n",
    "    pool = Pool(4)\n",
    "    pool.map(get0,range(0,len(pages)))"
   ]
  },
  {
   "cell_type": "code",
   "execution_count": 141,
   "metadata": {
    "collapsed": false
   },
   "outputs": [
    {
     "data": {
      "text/plain": [
       "[23, 19, 31, 42, 48]"
      ]
     },
     "execution_count": 141,
     "metadata": {},
     "output_type": "execute_result"
    }
   ],
   "source": [
    "error"
   ]
  },
  {
   "cell_type": "code",
   "execution_count": 19,
   "metadata": {
    "collapsed": false
   },
   "outputs": [],
   "source": [
    "def who(name):\n",
    "    name = pd.DataFrame()\n",
    "    for i in information.keys():\n",
    "        new = pd.DataFrame(information[i].values(),index=information[i].keys(),columns=['content'])\n",
    "        name = pd.concat([name,new])\n",
    "    return name"
   ]
  },
  {
   "cell_type": "code",
   "execution_count": 20,
   "metadata": {
    "collapsed": false
   },
   "outputs": [],
   "source": [
    "zhangjikehot = who('zhangjikehot')"
   ]
  },
  {
   "cell_type": "code",
   "execution_count": 38,
   "metadata": {
    "collapsed": false
   },
   "outputs": [],
   "source": [
    "zhangjikecom = who('zhangjikecom')"
   ]
  },
  {
   "cell_type": "code",
   "execution_count": 39,
   "metadata": {
    "collapsed": false
   },
   "outputs": [],
   "source": [
    "zhangjike = pd.concat([zhangjikehot,zhangjikecom])"
   ]
  },
  {
   "cell_type": "code",
   "execution_count": 82,
   "metadata": {
    "collapsed": false
   },
   "outputs": [],
   "source": [
    "ruchanghot = who('ruchanghot')"
   ]
  },
  {
   "cell_type": "code",
   "execution_count": 107,
   "metadata": {
    "collapsed": false
   },
   "outputs": [],
   "source": [
    "ruchangcom = who('ruchangcom')"
   ]
  },
  {
   "cell_type": "code",
   "execution_count": 135,
   "metadata": {
    "collapsed": false
   },
   "outputs": [],
   "source": [
    "kaimuhot1 = who('kaimuhot1')"
   ]
  },
  {
   "cell_type": "code",
   "execution_count": 144,
   "metadata": {
    "collapsed": true
   },
   "outputs": [],
   "source": [
    "kaimuhot2 = who('kaimuhot2')"
   ]
  },
  {
   "cell_type": "code",
   "execution_count": 145,
   "metadata": {
    "collapsed": true
   },
   "outputs": [],
   "source": [
    "kaimu = pd.concat([kaimuhot1,kaimuhot2])"
   ]
  },
  {
   "cell_type": "code",
   "execution_count": 65,
   "metadata": {
    "collapsed": false
   },
   "outputs": [],
   "source": [
    "import jieba\n",
    "from wordcloud import WordCloud\n",
    "import matplotlib.pyplot as plt\n",
    "import pandas as pd"
   ]
  },
  {
   "cell_type": "code",
   "execution_count": 222,
   "metadata": {
    "collapsed": false
   },
   "outputs": [],
   "source": [
    "sunyang = pd.concat([sunyang_mc,sunyang_mh])"
   ]
  },
  {
   "cell_type": "code",
   "execution_count": 348,
   "metadata": {
    "collapsed": true
   },
   "outputs": [],
   "source": [
    "ningzetao = pd.concat([ningzetao_mc,ningzetao_mh])"
   ]
  },
  {
   "cell_type": "code",
   "execution_count": 109,
   "metadata": {
    "collapsed": false
   },
   "outputs": [],
   "source": [
    "ruchang = pd.concat([ruchanghot,ruchangcom])"
   ]
  },
  {
   "cell_type": "code",
   "execution_count": 146,
   "metadata": {
    "collapsed": false
   },
   "outputs": [],
   "source": [
    "comments = ''\n",
    "for i in kaimu['content']:\n",
    "    comments += i "
   ]
  },
  {
   "cell_type": "code",
   "execution_count": 147,
   "metadata": {
    "collapsed": false
   },
   "outputs": [],
   "source": [
    "#coding:utf-8\n",
    "segments = []\n",
    "segs = jieba.cut((comments))\n",
    "for seg in segs:\n",
    "    if len(seg)>1:\n",
    "        segments.append(seg.encode('utf-8'))"
   ]
  },
  {
   "cell_type": "code",
   "execution_count": 149,
   "metadata": {
    "collapsed": false
   },
   "outputs": [],
   "source": [
    "pd.DataFrame({'word':segments})['word'].value_counts()[:50].to_csv('kaimu.txt',sep=',')"
   ]
  },
  {
   "cell_type": "code",
   "execution_count": 148,
   "metadata": {
    "collapsed": false
   },
   "outputs": [
    {
     "data": {
      "text/plain": [
       "中国      555\n",
       "开幕式     513\n",
       "加油      438\n",
       "奥运会     339\n",
       "巴西      303\n",
       "不错      288\n",
       "奥运      282\n",
       "北京      270\n",
       "觉得      267\n",
       "国家      168\n",
       "好看      168\n",
       "拜拜      168\n",
       "伦敦      165\n",
       "感觉      162\n",
       "微笑      159\n",
       "真的      153\n",
       "还是      144\n",
       "没有      141\n",
       "惊艳      132\n",
       "我们      120\n",
       "鼓掌      120\n",
       "创意      111\n",
       "可以      108\n",
       "中国队     105\n",
       "但是      102\n",
       "现在       96\n",
       "一个       93\n",
       "眼泪       93\n",
       "想象       93\n",
       "文化       90\n",
       "什么       87\n",
       "喜欢       84\n",
       "他们       84\n",
       "那么       84\n",
       "虽然       84\n",
       "人家       78\n",
       "这样       75\n",
       "环保       75\n",
       "自己       75\n",
       "这个       72\n",
       "用心       72\n",
       "很棒       72\n",
       "历史       69\n",
       "北京奥运     69\n",
       "其实       69\n",
       "起床       66\n",
       "不是       66\n",
       "好多       63\n",
       "知道       63\n",
       "看到       63\n",
       "Name: word, dtype: int64"
      ]
     },
     "execution_count": 148,
     "metadata": {},
     "output_type": "execute_result"
    }
   ],
   "source": [
    "pd.DataFrame({'word':segments})['word'].value_counts()[:50]"
   ]
  },
  {
   "cell_type": "code",
   "execution_count": null,
   "metadata": {
    "collapsed": false
   },
   "outputs": [],
   "source": []
  },
  {
   "cell_type": "code",
   "execution_count": null,
   "metadata": {
    "collapsed": false
   },
   "outputs": [],
   "source": []
  },
  {
   "cell_type": "code",
   "execution_count": 21,
   "metadata": {
    "collapsed": false
   },
   "outputs": [],
   "source": []
  },
  {
   "cell_type": "code",
   "execution_count": 31,
   "metadata": {
    "collapsed": true
   },
   "outputs": [],
   "source": []
  },
  {
   "cell_type": "code",
   "execution_count": null,
   "metadata": {
    "collapsed": false
   },
   "outputs": [],
   "source": []
  },
  {
   "cell_type": "code",
   "execution_count": null,
   "metadata": {
    "collapsed": false
   },
   "outputs": [],
   "source": []
  },
  {
   "cell_type": "code",
   "execution_count": null,
   "metadata": {
    "collapsed": false
   },
   "outputs": [],
   "source": []
  },
  {
   "cell_type": "code",
   "execution_count": 54,
   "metadata": {
    "collapsed": false
   },
   "outputs": [],
   "source": []
  },
  {
   "cell_type": "code",
   "execution_count": 55,
   "metadata": {
    "collapsed": false
   },
   "outputs": [],
   "source": []
  },
  {
   "cell_type": "code",
   "execution_count": null,
   "metadata": {
    "collapsed": false
   },
   "outputs": [],
   "source": []
  },
  {
   "cell_type": "code",
   "execution_count": 218,
   "metadata": {
    "collapsed": false
   },
   "outputs": [],
   "source": []
  },
  {
   "cell_type": "code",
   "execution_count": 238,
   "metadata": {
    "collapsed": false
   },
   "outputs": [],
   "source": []
  },
  {
   "cell_type": "code",
   "execution_count": null,
   "metadata": {
    "collapsed": false
   },
   "outputs": [],
   "source": []
  },
  {
   "cell_type": "code",
   "execution_count": null,
   "metadata": {
    "collapsed": false
   },
   "outputs": [],
   "source": []
  },
  {
   "cell_type": "code",
   "execution_count": null,
   "metadata": {
    "collapsed": false
   },
   "outputs": [],
   "source": []
  },
  {
   "cell_type": "code",
   "execution_count": null,
   "metadata": {
    "collapsed": true
   },
   "outputs": [],
   "source": []
  }
 ],
 "metadata": {
  "anaconda-cloud": {},
  "kernelspec": {
   "display_name": "Python [Root]",
   "language": "python",
   "name": "Python [Root]"
  },
  "language_info": {
   "codemirror_mode": {
    "name": "ipython",
    "version": 2
   },
   "file_extension": ".py",
   "mimetype": "text/x-python",
   "name": "python",
   "nbconvert_exporter": "python",
   "pygments_lexer": "ipython2",
   "version": "2.7.12"
  }
 },
 "nbformat": 4,
 "nbformat_minor": 0
}
